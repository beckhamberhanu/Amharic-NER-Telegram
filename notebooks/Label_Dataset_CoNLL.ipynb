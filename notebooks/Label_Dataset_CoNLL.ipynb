{
 "cells": [
  {
   "cell_type": "code",
   "execution_count": null,
   "metadata": {},
   "outputs": [],
   "source": [
    "import pandas as pd\n",
    "import re\n",
    "import os\n",
    "\n",
    "# Load the preprocessed data\n",
    "df = pd.read_csv(\"data/preprocessed_messages.csv\")\n",
    "\n",
    "# Display a few sample messages to manually annotate\n",
    "print(df[['Message_ID', 'Cleaned_Text']].head(10))  # Select 10 messages for manual labeling\n",
    "\n",
    "# --- MANUAL LABELING ---\n",
    "# We will manually label a subset of messages in the format:\n",
    "# Token B-Product/I-Product/B-LOC/I-LOC/B-PRICE/I-PRICE/O\n",
    "\n",
    "labeled_sentences = [\n",
    "    [\"አዲስ\", \"B-LOC\"], [\"አበባ\", \"I-LOC\"],\n",
    "    [\"ቤት\", \"B-Product\"], [\"ቤት\", \"I-Product\"],\n",
    "    [\"ዋጋ\", \"B-PRICE\"], [\"1000\", \"I-PRICE\"], [\"ብር\", \"I-PRICE\"],\n",
    "    [\"አልባሽ\", \"O\"], [\"አሰራር\", \"O\"]\n",
    "]\n",
    "\n",
    "# Convert labeled sentences into CoNLL format\n",
    "def save_conll_format(labeled_data, filename):\n",
    "    with open(filename, \"w\", encoding=\"utf-8\") as f:\n",
    "        for sentence in labeled_data:\n",
    "            for word, tag in sentence:\n",
    "                f.write(f\"{word} {tag}\\n\")\n",
    "            f.write(\"\\n\")  # Separate sentences with a blank line\n",
    "\n",
    "# Save the labeled dataset\n",
    "os.makedirs(\"data\", exist_ok=True)\n",
    "conll_file = \"data/labeled_conll.txt\"\n",
    "save_conll_format([labeled_sentences], conll_file)\n",
    "print(f\"✅ Labeled dataset saved to {conll_file}\")\n"
   ]
  },
  {
   "cell_type": "markdown",
   "metadata": {},
   "source": [
    " ### Import libraries and Load Preprocessed Data:"
   ]
  },
  {
   "cell_type": "code",
   "execution_count": 3,
   "metadata": {},
   "outputs": [
    {
     "name": "stdout",
     "output_type": "stream",
     "text": [
      "    Message_ID                                       Cleaned_Text\n",
      "0         6282                                                NaN\n",
      "1         6281                                                NaN\n",
      "2         6280                                                NaN\n",
      "3         6279                                                NaN\n",
      "4         6278                                                NaN\n",
      "5         6277                                                NaN\n",
      "6         6276  ፀረ ሌባ አላርም \\n\\n   በር  መስኮቶ ሲከፈት እስከ  ሜትር የሚሰማ ...\n",
      "7         6275                                                NaN\n",
      "8         6274                                                NaN\n",
      "9         6273                                                NaN\n",
      "10        6272  Door stoper\\n\\n__Prevents a door from opening ...\n",
      "11        6271  ድብቅ ካሜራPen Security Camera \\n\\nየእስክሪብቶ ካሜራ\\n\\n...\n",
      "12        6270                                                NaN\n",
      "13        6269                                                NaN\n",
      "14        6268                                                NaN\n",
      "15        6267                                                NaN\n",
      "16        6266  ድብቅ ካሜራPen Security Camera \\n\\nየእስክሪብቶ ካሜራ\\n\\n...\n",
      "17        6265  BOMA Deep Fryer \\n\\n\\n  Large Frying Basket\\n ...\n",
      "18        6264                                                NaN\n",
      "19        6263                                                NaN\n"
     ]
    }
   ],
   "source": [
    "import pandas as pd\n",
    "import re\n",
    "import os\n",
    "\n",
    "# Load the preprocessed data\n",
    "df = pd.read_csv(\"/home/bbm/Documents/projects/Amharic-NER-Telegram/data/preprocessed_messages.csv\")\n",
    "\n",
    "# Display a few sample messages to manually annotate\n",
    "print(df[['Message_ID', 'Cleaned_Text']].head(20))  # Select 10 messages for manual labeling"
   ]
  },
  {
   "cell_type": "markdown",
   "metadata": {},
   "source": [
    "##### Read and Format Existing Labeled Data in CoNLL Format. This reads the given labeled data, instead of labelling manually(time shortage) from labeled_teleram_product_price_location.txt and formats it properly for NER training."
   ]
  },
  {
   "cell_type": "code",
   "execution_count": 5,
   "metadata": {},
   "outputs": [],
   "source": [
    "input_file = \"/home/bbm/Documents/projects/Amharic-NER-Telegram/data/labeled_teleram_product_price_location.txt\"\n",
    "output_file = \"/home/bbm/Documents/projects/Amharic-NER-Telegram/data/labeled_data.conll\" #Standard CoNLL file name\n",
    "\n",
    "# Function to Process the Existing Labeled Data\n",
    "def process_labeled_data(input_path, output_path):\n",
    "    try:\n",
    "        with open(input_path, 'r', encoding='utf-8') as infile, open(output_path, 'w', encoding='utf-8') as outfile:\n",
    "            for line in infile:\n",
    "                line = line.strip()\n",
    "                if line:  # Skip empty lines\n",
    "                    parts = line.split()\n",
    "                    if len(parts) >= 2: #Handle lines with no tag or only one word\n",
    "                        word = parts[0]\n",
    "                        tag = parts[-1] #Take the last word as tag as there can be more than one word for product\n",
    "                        outfile.write(f\"{word} {tag}\\n\")\n",
    "                    else:\n",
    "                        print(f\"Warning: Invalid line format in input file: {line}\") #Inform about the problem\n",
    "                else:\n",
    "                    outfile.write(\"\\n\") #Add blank line for sentence seperation\n",
    "\n",
    "        print(f\"✅ Labeled data processed and saved to {output_path}\")\n",
    "\n",
    "    except FileNotFoundError:\n",
    "        print(f\"Error: Input file {input_path} not found.\")\n",
    "    except Exception as e:\n",
    "        print(f\"An error occurred: {e}\")"
   ]
  },
  {
   "cell_type": "markdown",
   "metadata": {},
   "source": [
    "## Process and Save the Data\n"
   ]
  },
  {
   "cell_type": "code",
   "execution_count": null,
   "metadata": {},
   "outputs": [],
   "source": [
    "os.makedirs(\"/home/bbm/Documents/projects/Amharic-NER-Telegram/data/\", exist_ok=True)\n",
    "process_labeled_data(input_file, output_file)\n",
    "\n",
    "def read_conll(filepath):\n",
    "    data = []\n",
    "    with open(filepath, 'r', encoding='utf-8') as f:\n",
    "        sentence = []\n",
    "        for line in f:\n",
    "            line = line.strip()\n",
    "            if line:\n",
    "                parts = line.split()\n",
    "                if len(parts) == 2:\n",
    "                    token, label = parts\n",
    "                    sentence.append((token, label))\n",
    "            elif sentence:\n",
    "                data.append(sentence)\n",
    "                sentence = []\n",
    "        if sentence:  # Add the last sentence if there's no final blank line\n",
    "            data.append(sentence)\n",
    "    return data\n",
    "\n",
    "# Example usage (after creating labeled_data.conll):\n",
    "try:\n",
    "    labeled_data = read_conll(\"/home/bbm/Documents/projects/Amharic-NER-Telegram/data/labeled_data.conll\")\n",
    "    print(\"\\nExample of read CoNLL data:\")\n",
    "    print(labeled_data[0]) #Print the first labeled sentence\n",
    "except FileNotFoundError:\n",
    "    print(\"labeled_data.conll not found. Make sure you have created the file.\")\n",
    "except IndexError:\n",
    "    print(\"labeled_data.conll is empty. Please label data\")\n",
    "except ValueError:\n",
    "    print(\"Invalid CoNLL format. Each line must have two elements.\")"
   ]
  }
 ],
 "metadata": {
  "kernelspec": {
   "display_name": "ner_env",
   "language": "python",
   "name": "python3"
  },
  "language_info": {
   "codemirror_mode": {
    "name": "ipython",
    "version": 3
   },
   "file_extension": ".py",
   "mimetype": "text/x-python",
   "name": "python",
   "nbconvert_exporter": "python",
   "pygments_lexer": "ipython3",
   "version": "3.12.0"
  }
 },
 "nbformat": 4,
 "nbformat_minor": 2
}
